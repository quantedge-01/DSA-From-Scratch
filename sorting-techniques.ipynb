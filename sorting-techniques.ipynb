{
 "cells": [
  {
   "cell_type": "markdown",
   "metadata": {},
   "source": [
    "# Bubble Sort"
   ]
  },
  {
   "cell_type": "code",
   "execution_count": null,
   "metadata": {},
   "outputs": [],
   "source": [
    "'''\n",
    "Bubble sort is a sorting algorithm where you iterate through a list of numbers, compare each number \n",
    "to the next number, and swap them if they are out of order. Computer scientists call it a bubble sort \n",
    "because the numbers with the highest values “bubble up” to the end of the list, and the numbers with \n",
    "the smallest values move to the beginning of the list as the algorithm progresses.\n",
    "'''"
   ]
  },
  {
   "cell_type": "markdown",
   "metadata": {},
   "source": [
    "#### Brute force "
   ]
  },
  {
   "cell_type": "code",
   "execution_count": 29,
   "metadata": {},
   "outputs": [],
   "source": [
    "arr = [18,4,6,72,6,7,8]\n",
    "n = len(arr) - 1"
   ]
  },
  {
   "cell_type": "code",
   "execution_count": 31,
   "metadata": {},
   "outputs": [],
   "source": [
    "for i in range(n):\n",
    "    for j in range(n):\n",
    "        if arr[j] > arr[j+1]:\n",
    "             arr[j] , arr[j+1] =  arr[j+1] , arr[j]\n",
    "             \n",
    "arr"
   ]
  },
  {
   "cell_type": "markdown",
   "metadata": {},
   "source": [
    "#### Improved BB"
   ]
  },
  {
   "cell_type": "code",
   "execution_count": null,
   "metadata": {},
   "outputs": [],
   "source": [
    "for i in range(n):\n",
    "    for j in range(n -i): # After every iteration the largest element bubbles to the end of the list, so no need to compare it.\n",
    "        if arr[j] > arr[j+1]:\n",
    "             arr[j] , arr[j+1] =  arr[j+1] , arr[j]\n",
    "             \n",
    "arr"
   ]
  },
  {
   "cell_type": "markdown",
   "metadata": {},
   "source": [
    "#### Optimal"
   ]
  },
  {
   "cell_type": "code",
   "execution_count": null,
   "metadata": {},
   "outputs": [],
   "source": [
    "for i in range(n):\n",
    "    flag  = False # initaializing flag to check if any swaps were made\n",
    "    for j in range(n -i): # After every iteration the largest element bubbles to the end of the list, so no need to compare it.\n",
    "        if arr[j] > arr[j+1]:\n",
    "             arr[j] , arr[j+1] =  arr[j+1] , arr[j]\n",
    "             flag = True # Re-setting the flag\n",
    "\n",
    "    if flag == False: # No swaps were made means the list is already sorted...\n",
    "        break\n",
    "             \n",
    "arr"
   ]
  },
  {
   "cell_type": "code",
   "execution_count": null,
   "metadata": {},
   "outputs": [],
   "source": [
    "'''\n",
    "REPORT CARD Of Bubble Sort{ \n",
    "                        Time Complexity of O(n^2) in Worst Case , Average case , \n",
    "                        Time Complexity of O(n) in best Case(For the optimized one ) , othewise O(n^2) in best case,\n",
    "                        In place sorting algorithm , Space Complexity O(1) and stable \n",
    "                        }\n",
    "'''"
   ]
  },
  {
   "cell_type": "markdown",
   "metadata": {},
   "source": [
    "# Selection Sort"
   ]
  },
  {
   "cell_type": "code",
   "execution_count": null,
   "metadata": {},
   "outputs": [],
   "source": [
    "'''\n",
    "The selection sorting algorithm begins by finding the smallest element in the list, and interchanges it with the data stored at the first position in the list. \n",
    "You may see that the selection sort makes the same number of comparisons as the bubble sort and is therefore also O(n2). \n",
    "However, due to the reduction in the number of exchanges, the  selection sort typically executes faster in benchmark studies.\n",
    "'''"
   ]
  },
  {
   "cell_type": "code",
   "execution_count": 5,
   "metadata": {},
   "outputs": [],
   "source": [
    "arr = [4,6,9,12,72,6,7,8]\n",
    "n = len(arr)\n",
    "for i in range(n):\n",
    "    min_idx = i\n",
    "    for j in range(i+1 , n):\n",
    "        if arr[j] < arr[min_idx]:\n",
    "            min_idx = j\n",
    "\n",
    "    arr[i] , arr[min_idx] = arr[min_idx] , arr[i]"
   ]
  },
  {
   "cell_type": "code",
   "execution_count": 6,
   "metadata": {},
   "outputs": [
    {
     "data": {
      "text/plain": [
       "[4, 6, 6, 7, 8, 9, 12, 72]"
      ]
     },
     "execution_count": 6,
     "metadata": {},
     "output_type": "execute_result"
    }
   ],
   "source": [
    "'''\n",
    "Report Card of Selection Sort{\n",
    "                        Comolexity - The selection sorting algorithm gives worst-case and best-case runtime complexities of O(n2).\n",
    "                        Space Complexity - The selection sorting algorithm gives worst-case and best-case runtime complexities of O(n2).\n",
    "                        Its a stable algo. \n",
    "                        }\n",
    "'''"
   ]
  }
 ],
 "metadata": {
  "kernelspec": {
   "display_name": "Python 3",
   "language": "python",
   "name": "python3"
  },
  "language_info": {
   "codemirror_mode": {
    "name": "ipython",
    "version": 3
   },
   "file_extension": ".py",
   "mimetype": "text/x-python",
   "name": "python",
   "nbconvert_exporter": "python",
   "pygments_lexer": "ipython3",
   "version": "3.10.5"
  }
 },
 "nbformat": 4,
 "nbformat_minor": 2
}
