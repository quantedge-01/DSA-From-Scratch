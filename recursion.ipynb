{
 "cells": [
  {
   "cell_type": "code",
   "execution_count": null,
   "metadata": {},
   "outputs": [],
   "source": [
    "'''recursive_sum([1, 2, 3])\n",
    "   |\n",
    "   +--> 1 + recursive_sum([2, 3])\n",
    "             |\n",
    "             +--> 2 + recursive_sum([3])\n",
    "                       |\n",
    "                       +--> 3 + recursive_sum([])\n",
    "                                  |\n",
    "                                  +--> returns 0  (Base Case)\n",
    "                       +--> returns 3 + 0 = 3\n",
    "             +--> returns 2 + 3 = 5\n",
    "   +--> returns 1 + 5 = 6'''\n"
   ]
  },
  {
   "cell_type": "markdown",
   "metadata": {},
   "source": [
    "# print till 1 to N"
   ]
  },
  {
   "cell_type": "code",
   "execution_count": null,
   "metadata": {},
   "outputs": [],
   "source": [
    "'''print_numbers(3)\n",
    "   |\n",
    "   +--> print_numbers(2)\n",
    "             |\n",
    "             +--> print_numbers(1)\n",
    "                       |\n",
    "                       +--> print_numbers(0)  (Base Case)\n",
    "                                  |\n",
    "                                  +--> returns (no print)\n",
    "                       +--> prints 1\n",
    "             +--> prints 2\n",
    "   +--> prints 3'''"
   ]
  },
  {
   "cell_type": "code",
   "execution_count": null,
   "metadata": {},
   "outputs": [],
   "source": [
    "def printNos(N):\n",
    "    if N == 0:\n",
    "        return\n",
    "    printNos(N-1)\n",
    "    print(N)"
   ]
  },
  {
   "cell_type": "code",
   "execution_count": null,
   "metadata": {},
   "outputs": [],
   "source": [
    "printNos(10)"
   ]
  },
  {
   "cell_type": "markdown",
   "metadata": {},
   "source": [
    "# print till N to 1"
   ]
  },
  {
   "cell_type": "code",
   "execution_count": null,
   "metadata": {},
   "outputs": [],
   "source": [
    "'''print_numbers_desc(3)\n",
    "   |\n",
    "   +--> prints 3\n",
    "   +--> print_numbers_desc(2)\n",
    "             |\n",
    "             +--> prints 2\n",
    "             +--> print_numbers_desc(1)\n",
    "                       |\n",
    "                       +--> prints 1\n",
    "                       +--> print_numbers_desc(0)  (Base Case)\n",
    "                                  |\n",
    "                                  +--> returns (no further action)'''\n"
   ]
  },
  {
   "cell_type": "code",
   "execution_count": null,
   "metadata": {},
   "outputs": [],
   "source": [
    "def printNos(N):\n",
    "    if N == 0:\n",
    "        return \n",
    "    print(N)\n",
    "    return printNos(N -1)"
   ]
  },
  {
   "cell_type": "code",
   "execution_count": null,
   "metadata": {},
   "outputs": [],
   "source": [
    "printNos(10)"
   ]
  },
  {
   "cell_type": "markdown",
   "metadata": {},
   "source": [
    "# Sum of N num"
   ]
  },
  {
   "cell_type": "code",
   "execution_count": null,
   "metadata": {},
   "outputs": [],
   "source": [
    "def add(n):\n",
    "    if n == 0:\n",
    "        return 0\n",
    "\n",
    "    return n + add(n-1)"
   ]
  },
  {
   "cell_type": "code",
   "execution_count": null,
   "metadata": {},
   "outputs": [],
   "source": [
    "add(5)"
   ]
  },
  {
   "cell_type": "markdown",
   "metadata": {},
   "source": [
    "# sum of cube series"
   ]
  },
  {
   "cell_type": "code",
   "execution_count": null,
   "metadata": {},
   "outputs": [],
   "source": [
    "def cube(n):\n",
    "    if n == 1:\n",
    "        return 1\n",
    "\n",
    "    return n**3 + cube(n-1)"
   ]
  },
  {
   "cell_type": "code",
   "execution_count": null,
   "metadata": {},
   "outputs": [],
   "source": [
    "cube(5)"
   ]
  },
  {
   "cell_type": "markdown",
   "metadata": {},
   "source": [
    "# Factorial of a number"
   ]
  },
  {
   "cell_type": "code",
   "execution_count": null,
   "metadata": {},
   "outputs": [],
   "source": [
    "def fact(n):\n",
    "    if n == 0:\n",
    "        return 1\n",
    "    return n* fact(n-1)"
   ]
  },
  {
   "cell_type": "code",
   "execution_count": null,
   "metadata": {},
   "outputs": [],
   "source": [
    "fact(5)"
   ]
  },
  {
   "cell_type": "markdown",
   "metadata": {},
   "source": [
    "# Reverse an array"
   ]
  },
  {
   "cell_type": "code",
   "execution_count": null,
   "metadata": {},
   "outputs": [],
   "source": [
    "def rev_arr(arr,l,r):\n",
    "    if l >= r:\n",
    "        return\n",
    "    arr[l] , arr[r] = arr[r], arr[l]\n",
    "    rev_arr(arr,l+1, r-1) # not returning anything since it is modifying the list\n",
    "\n",
    "# Note -  l and r cannot be defined inside the function, because they need to be reset on each recursive call. \n",
    "# if l and r are defined inside then the value , l as 0 and r as len(arr) - 1, so the function will only swap the first and last elements repeatedly."
   ]
  },
  {
   "cell_type": "code",
   "execution_count": null,
   "metadata": {},
   "outputs": [],
   "source": [
    "arr = [1,2,3,4,5]"
   ]
  },
  {
   "cell_type": "code",
   "execution_count": null,
   "metadata": {},
   "outputs": [],
   "source": [
    "rev_arr(arr,0,len(arr)-1)\n",
    "print(arr)"
   ]
  },
  {
   "cell_type": "markdown",
   "metadata": {},
   "source": [
    "# Pallindrome Number"
   ]
  },
  {
   "cell_type": "code",
   "execution_count": null,
   "metadata": {},
   "outputs": [],
   "source": [
    "def pallin(string,st,en):\n",
    "    if st >= en:\n",
    "        return \n",
    "    if string[st] == string[en]:\n",
    "        pallin(string , st+1 , en -1)\n",
    "        return True\n",
    "    \n",
    "    return False\n",
    "\n",
    "    "
   ]
  },
  {
   "cell_type": "code",
   "execution_count": null,
   "metadata": {},
   "outputs": [],
   "source": [
    "word = 'mama'"
   ]
  },
  {
   "cell_type": "code",
   "execution_count": null,
   "metadata": {},
   "outputs": [],
   "source": [
    "pallin(word, 0, len(word)- 1)"
   ]
  },
  {
   "cell_type": "markdown",
   "metadata": {},
   "source": [
    "## Effective Palalindrom"
   ]
  },
  {
   "cell_type": "code",
   "execution_count": 1,
   "metadata": {},
   "outputs": [
    {
     "ename": "NameError",
     "evalue": "name 'word' is not defined",
     "output_type": "error",
     "traceback": [
      "\u001b[1;31m---------------------------------------------------------------------------\u001b[0m",
      "\u001b[1;31mNameError\u001b[0m                                 Traceback (most recent call last)",
      "Cell \u001b[1;32mIn[1], line 1\u001b[0m\n\u001b[1;32m----> 1\u001b[0m step \u001b[38;5;241m=\u001b[39m [i\u001b[38;5;241m.\u001b[39mlower() \u001b[38;5;28;01mfor\u001b[39;00m i \u001b[38;5;129;01min\u001b[39;00m \u001b[43mword\u001b[49m]\n\u001b[0;32m      2\u001b[0m \u001b[38;5;28mall\u001b[39m(step[i] \u001b[38;5;241m==\u001b[39m step[\u001b[38;5;241m~\u001b[39mi] \u001b[38;5;28;01mfor\u001b[39;00m i \u001b[38;5;129;01min\u001b[39;00m \u001b[38;5;28mrange\u001b[39m(\u001b[38;5;28mlen\u001b[39m(word) \u001b[38;5;241m/\u001b[39m\u001b[38;5;241m/\u001b[39m \u001b[38;5;241m2\u001b[39m))\n",
      "\u001b[1;31mNameError\u001b[0m: name 'word' is not defined"
     ]
    }
   ],
   "source": [
    "step = [i.lower() for i in word]\n",
    "all(step[i] == step[~i] for i in range(len(word) // 2))"
   ]
  },
  {
   "cell_type": "markdown",
   "metadata": {},
   "source": [
    "# Fibonacci"
   ]
  },
  {
   "cell_type": "code",
   "execution_count": 1,
   "metadata": {},
   "outputs": [],
   "source": [
    "def fibo(n):\n",
    "\n",
    "    if n <=1:\n",
    "        return n\n",
    "\n",
    "    else:\n",
    "        return fibo(n-1) + fibo(n-2)"
   ]
  },
  {
   "cell_type": "code",
   "execution_count": 2,
   "metadata": {},
   "outputs": [
    {
     "data": {
      "text/plain": [
       "5"
      ]
     },
     "execution_count": 2,
     "metadata": {},
     "output_type": "execute_result"
    }
   ],
   "source": [
    "fibo(5)"
   ]
  },
  {
   "cell_type": "code",
   "execution_count": 5,
   "metadata": {},
   "outputs": [
    {
     "data": {
      "text/plain": [
       "'1 5'"
      ]
     },
     "execution_count": 5,
     "metadata": {},
     "output_type": "execute_result"
    }
   ],
   "source": [
    "from typing import List\n",
    "\n",
    "\n",
    "def printDivisors(n: int) -> List[int]:\n",
    "    # Write your code here\n",
    "    div = []\n",
    "    for i in range(1,n+1):\n",
    "        if n % i == 0:\n",
    "            div.append(i)\n",
    "    return div\n",
    "\n",
    "n = int(float(input()))\n",
    "al = printDivisors(n)\n",
    "' '.join(str(a) for a in al)\n"
   ]
  },
  {
   "cell_type": "code",
   "execution_count": null,
   "metadata": {},
   "outputs": [],
   "source": []
  }
 ],
 "metadata": {
  "kernelspec": {
   "display_name": "Python 3",
   "language": "python",
   "name": "python3"
  },
  "language_info": {
   "codemirror_mode": {
    "name": "ipython",
    "version": 3
   },
   "file_extension": ".py",
   "mimetype": "text/x-python",
   "name": "python",
   "nbconvert_exporter": "python",
   "pygments_lexer": "ipython3",
   "version": "3.10.5"
  }
 },
 "nbformat": 4,
 "nbformat_minor": 2
}
