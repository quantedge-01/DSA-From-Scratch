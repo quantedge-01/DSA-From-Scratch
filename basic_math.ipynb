{
 "cells": [
  {
   "cell_type": "markdown",
   "metadata": {},
   "source": [
    "# counting number of digits"
   ]
  },
  {
   "cell_type": "code",
   "execution_count": null,
   "metadata": {},
   "outputs": [],
   "source": [
    "n = 12345\n",
    "count = 0\n",
    "while n !=0:\n",
    "    n = n // 10\n",
    "    # print(n)\n",
    "    count += 1\n",
    "count"
   ]
  },
  {
   "cell_type": "code",
   "execution_count": null,
   "metadata": {},
   "outputs": [],
   "source": [
    "from math import log10\n",
    "int(log10(n) + 1) # can also get the len of integers using this"
   ]
  },
  {
   "cell_type": "markdown",
   "metadata": {},
   "source": [
    "#### The logarithm to the base 10 of a number tells you the power to which 10 must be raised to get that number."
   ]
  },
  {
   "cell_type": "markdown",
   "metadata": {},
   "source": [
    "# Checking division by its own digit"
   ]
  },
  {
   "cell_type": "code",
   "execution_count": null,
   "metadata": {},
   "outputs": [],
   "source": [
    "num = 12345\n",
    "count = 0\n",
    "new_num = num\n",
    "while new_num != 0:\n",
    "    divisor = new_num % 10\n",
    "    print(divisor)\n",
    "    if num % divisor == 0:\n",
    "        count += 1\n",
    "\n",
    "    new_num = new_num // 10\n",
    "    \n",
    "count"
   ]
  },
  {
   "cell_type": "markdown",
   "metadata": {},
   "source": [
    "# reverse of a nuymber "
   ]
  },
  {
   "cell_type": "code",
   "execution_count": null,
   "metadata": {},
   "outputs": [],
   "source": [
    "num = 12345\n",
    "rev = 0\n",
    "num_digits = int(log10(num) + 1) \n",
    "for i in range(num_digits):\n",
    "    digit = num % 10\n",
    "    num = num // 10\n",
    "    rev += digit * 10 ** (num_digits - 1)\n",
    "    num_digits -= 1\n",
    "rev\n"
   ]
  },
  {
   "cell_type": "markdown",
   "metadata": {},
   "source": [
    "## another method"
   ]
  },
  {
   "cell_type": "code",
   "execution_count": null,
   "metadata": {},
   "outputs": [],
   "source": [
    "my_num = 12345\n",
    "rev = 0\n",
    "while my_num != 0:\n",
    "    digit = my_num % 10\n",
    "    print(digit)\n",
    "    my_num =  my_num // 10\n",
    "    rev = (rev * 10) + digit\n"
   ]
  },
  {
   "cell_type": "markdown",
   "metadata": {},
   "source": [
    "# pallindrome number"
   ]
  },
  {
   "cell_type": "code",
   "execution_count": 2,
   "metadata": {},
   "outputs": [
    {
     "name": "stdout",
     "output_type": "stream",
     "text": [
      "1\n",
      "2\n",
      "3\n",
      "2\n",
      "1\n",
      "pallindrome\n"
     ]
    }
   ],
   "source": [
    "my_num = 12321\n",
    "num = my_num\n",
    "rev = 0\n",
    "while my_num != 0:\n",
    "    digit = my_num % 10\n",
    "    print(digit)\n",
    "    my_num =  my_num // 10\n",
    "    rev = (rev * 10) + digit\n",
    "\n",
    "if rev == num:\n",
    "    print('pallindrome')\n",
    "else:\n",
    "    print('not a pallinderome')"
   ]
  },
  {
   "cell_type": "markdown",
   "metadata": {},
   "source": [
    "# find GCD of two numbers"
   ]
  },
  {
   "cell_type": "markdown",
   "metadata": {},
   "source": [
    "### Method 1 - Mathematical approach"
   ]
  },
  {
   "cell_type": "code",
   "execution_count": null,
   "metadata": {},
   "outputs": [],
   "source": [
    "def factors(n):\n",
    "    factors = set()\n",
    "    t =int(n ** 0.5)\n",
    "    for i in range(1,t+1):\n",
    "        if n % i == 0:\n",
    "            factors.add(i)\n",
    "    return factors\n",
    "\n",
    "n1 = 12\n",
    "n2 = 9\n",
    "\n",
    "fact_1 = factors(n1)\n",
    "fact_2 = factors(n2)\n",
    "hcf = max(fact_1.intersection(fact_2))"
   ]
  },
  {
   "cell_type": "markdown",
   "metadata": {},
   "source": [
    "### Method 2 - Checking from behind"
   ]
  },
  {
   "cell_type": "code",
   "execution_count": 44,
   "metadata": {},
   "outputs": [],
   "source": [
    "def gcd(n1,n2):\n",
    "    for i in range(min(n1 , n2)  ,0 ,-1):\n",
    "        if (n1 % i ==0 and n2 % i == 0 ):\n",
    "            gcd = i\n",
    "            break\n",
    "\n",
    "    return gcd"
   ]
  },
  {
   "cell_type": "code",
   "execution_count": 45,
   "metadata": {},
   "outputs": [
    {
     "data": {
      "text/plain": [
       "3"
      ]
     },
     "execution_count": 45,
     "metadata": {},
     "output_type": "execute_result"
    }
   ],
   "source": [
    "gcd(n1, n2)"
   ]
  },
  {
   "cell_type": "markdown",
   "metadata": {},
   "source": [
    "### Method 2  - Euclidean Algo"
   ]
  },
  {
   "cell_type": "code",
   "execution_count": 46,
   "metadata": {},
   "outputs": [
    {
     "name": "stdout",
     "output_type": "stream",
     "text": [
      "GCD:  3\n"
     ]
    }
   ],
   "source": [
    "while (n1> 0 and n2> 0):\n",
    "    if n1 > n2:\n",
    "        n1 = n1 % n2\n",
    "    elif n2 > n1:\n",
    "       n2 =  n2 % n1\n",
    "if n1 == 0:\n",
    "    print(\"GCD :\" , n2)\n",
    "else:\n",
    "    print(\"GCD: \" , n1)\n"
   ]
  },
  {
   "cell_type": "markdown",
   "metadata": {},
   "source": [
    "# Armstrong Number"
   ]
  },
  {
   "cell_type": "code",
   "execution_count": 58,
   "metadata": {},
   "outputs": [],
   "source": [
    "from math import log10"
   ]
  },
  {
   "cell_type": "code",
   "execution_count": 96,
   "metadata": {},
   "outputs": [],
   "source": [
    "def armstrong(num):\n",
    "    n = num\n",
    "    sum = 0\n",
    "    num_digits = int(log10(num) + 1)\n",
    "    while num != 0:\n",
    "        single_digit  = num % 10\n",
    "        # print(single_digit)\n",
    "        sum += (single_digit)**num_digits\n",
    "        num = num // 10\n",
    "    if sum == n:\n",
    "        print('Armstrong')\n",
    "    else:\n",
    "        print('Not an Armstrong')\n"
   ]
  },
  {
   "cell_type": "code",
   "execution_count": 97,
   "metadata": {},
   "outputs": [],
   "source": [
    "num = 1"
   ]
  },
  {
   "cell_type": "code",
   "execution_count": 98,
   "metadata": {},
   "outputs": [
    {
     "name": "stdout",
     "output_type": "stream",
     "text": [
      "Armstrong\n"
     ]
    }
   ],
   "source": [
    "armstrong(num)"
   ]
  },
  {
   "cell_type": "markdown",
   "metadata": {},
   "source": [
    "# Prime "
   ]
  },
  {
   "cell_type": "code",
   "execution_count": 115,
   "metadata": {},
   "outputs": [],
   "source": [
    "def prime(num):\n",
    "    fact_count = 0\n",
    "    for i in range(1 ,num+1):\n",
    "        if (num % i == 0) :\n",
    "            fact_count += 1\n",
    "    if fact_count == 2:\n",
    "        return 'YES' \n",
    "    else:\n",
    "        return 'NO'"
   ]
  },
  {
   "cell_type": "code",
   "execution_count": 166,
   "metadata": {},
   "outputs": [
    {
     "data": {
      "text/plain": [
       "'NO'"
      ]
     },
     "execution_count": 166,
     "metadata": {},
     "output_type": "execute_result"
    }
   ],
   "source": [
    "prime(72)"
   ]
  },
  {
   "cell_type": "code",
   "execution_count": 34,
   "metadata": {},
   "outputs": [],
   "source": [
    "def prime_optimized(num):\n",
    "    check = int(num ** 0.5) + 1\n",
    "    counter = 0\n",
    "    for i in range(1 ,check+1):\n",
    "        if num % i == 0:\n",
    "            counter += 1\n",
    "        \n",
    "    if counter == 2:\n",
    "        return 'prime'\n",
    "    else:\n",
    "        return 'not a prime num'"
   ]
  },
  {
   "cell_type": "code",
   "execution_count": 36,
   "metadata": {},
   "outputs": [
    {
     "name": "stdout",
     "output_type": "stream",
     "text": [
      "3\n",
      "1\n",
      "2\n",
      "3\n"
     ]
    },
    {
     "data": {
      "text/plain": [
       "'prime'"
      ]
     },
     "execution_count": 36,
     "metadata": {},
     "output_type": "execute_result"
    }
   ],
   "source": [
    "prime_optimized(4)"
   ]
  },
  {
   "cell_type": "markdown",
   "metadata": {},
   "source": [
    "# num of Divisors"
   ]
  },
  {
   "cell_type": "code",
   "execution_count": 3,
   "metadata": {},
   "outputs": [
    {
     "name": "stdout",
     "output_type": "stream",
     "text": [
      "num of factors of 36 is 9 and the factors are [1, 2, 3, 4, 6, 9, 12, 18, 36]\n"
     ]
    }
   ],
   "source": [
    "num = 36\n",
    "factors = []\n",
    "for i in range(1, num+1):\n",
    "    if num % i == 0:\n",
    "        factors.append(i)\n",
    "total_factors = len(factors)\n",
    "print(f'num of factors of {num} is {total_factors} and the factors are {factors}')"
   ]
  },
  {
   "cell_type": "markdown",
   "metadata": {},
   "source": [
    "#### Optimized way"
   ]
  },
  {
   "cell_type": "code",
   "execution_count": 20,
   "metadata": {},
   "outputs": [
    {
     "name": "stdout",
     "output_type": "stream",
     "text": [
      "num of factors of 36 is 9 and the factors are {1, 2, 3, 36, 4, 6, 9, 12, 18}\n"
     ]
    }
   ],
   "source": [
    "num = 36\n",
    "factors = set()\n",
    "check = int(num**0.5)\n",
    "\n",
    "for i in range(1, check+1):\n",
    "    if num % i == 0:\n",
    "        factors.add(i)\n",
    "        fact = num // i\n",
    "        factors.add(fact)\n",
    "\n",
    "total_factors = len(factors)\n",
    "print(f'num of factors of {num} is {total_factors} and the factors are {factors}')"
   ]
  },
  {
   "cell_type": "code",
   "execution_count": 19,
   "metadata": {},
   "outputs": [
    {
     "data": {
      "text/plain": [
       "9"
      ]
     },
     "execution_count": 19,
     "metadata": {},
     "output_type": "execute_result"
    }
   ],
   "source": []
  },
  {
   "cell_type": "code",
   "execution_count": null,
   "metadata": {},
   "outputs": [],
   "source": []
  }
 ],
 "metadata": {
  "kernelspec": {
   "display_name": "Python 3",
   "language": "python",
   "name": "python3"
  },
  "language_info": {
   "codemirror_mode": {
    "name": "ipython",
    "version": 3
   },
   "file_extension": ".py",
   "mimetype": "text/x-python",
   "name": "python",
   "nbconvert_exporter": "python",
   "pygments_lexer": "ipython3",
   "version": "3.10.5"
  }
 },
 "nbformat": 4,
 "nbformat_minor": 2
}
